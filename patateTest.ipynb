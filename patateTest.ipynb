{
  "nbformat": 4,
  "nbformat_minor": 0,
  "metadata": {
    "colab": {
      "name": "patateTest.ipynb",
      "provenance": [],
      "collapsed_sections": [],
      "machine_shape": "hm",
      "include_colab_link": true
    },
    "kernelspec": {
      "name": "python3",
      "display_name": "Python 3"
    },
    "accelerator": "GPU"
  },
  "cells": [
    {
      "cell_type": "markdown",
      "metadata": {
        "id": "view-in-github",
        "colab_type": "text"
      },
      "source": [
        "<a href=\"https://colab.research.google.com/github/HjrAmal/KNN-plants-Illness-Detection/blob/main/patateTest.ipynb\" target=\"_parent\"><img src=\"https://colab.research.google.com/assets/colab-badge.svg\" alt=\"Open In Colab\"/></a>"
      ]
    },
    {
      "cell_type": "code",
      "metadata": {
        "id": "M00_NlsnLKXi",
        "outputId": "81dd8c70-11ff-4172-be1a-a3eb406dfa70",
        "colab": {
          "base_uri": "https://localhost:8080/",
          "height": 34
        }
      },
      "source": [
        "!git clone https://github.com/spMohanty/PlantVillage-Dataset.git"
      ],
      "execution_count": null,
      "outputs": [
        {
          "output_type": "stream",
          "text": [
            "fatal: destination path 'PlantVillage-Dataset' already exists and is not an empty directory.\n"
          ],
          "name": "stdout"
        }
      ]
    },
    {
      "cell_type": "code",
      "metadata": {
        "id": "-qt6op14M1fV",
        "outputId": "484ea415-1bd6-4852-e588-8470215feb2f",
        "colab": {
          "base_uri": "https://localhost:8080/",
          "height": 34
        }
      },
      "source": [
        "!cd /content/PlantVillage-Dataset/raw/ && ls\n"
      ],
      "execution_count": null,
      "outputs": [
        {
          "output_type": "stream",
          "text": [
            "color  grayscale  segmented\n"
          ],
          "name": "stdout"
        }
      ]
    },
    {
      "cell_type": "code",
      "metadata": {
        "id": "gB2eU5MdM69J",
        "outputId": "de036f49-f234-4583-99f7-b7ba6900d66e",
        "colab": {
          "base_uri": "https://localhost:8080/",
          "height": 34
        }
      },
      "source": [
        "!ls"
      ],
      "execution_count": null,
      "outputs": [
        {
          "output_type": "stream",
          "text": [
            "PlantVillage-Dataset  sample_data\n"
          ],
          "name": "stdout"
        }
      ]
    },
    {
      "cell_type": "code",
      "metadata": {
        "id": "trVgOLhe3Nb0"
      },
      "source": [
        ""
      ],
      "execution_count": null,
      "outputs": []
    },
    {
      "cell_type": "code",
      "metadata": {
        "id": "NRuOS20yO0zi"
      },
      "source": [
        "import numpy as np\n",
        "\n",
        "import cv2\n",
        "\n",
        "from sklearn import neighbors\n",
        "\n",
        "\n",
        "\n",
        "import glob\n",
        "\n",
        "from sklearn.decomposition import PCA\n",
        "from sklearn.model_selection import train_test_split\n",
        "from sklearn.preprocessing import StandardScaler"
      ],
      "execution_count": null,
      "outputs": []
    },
    {
      "cell_type": "code",
      "metadata": {
        "id": "jFYDCRFSqTfg",
        "outputId": "08fc009e-14a8-4db4-ed64-ef88f670297a",
        "colab": {
          "base_uri": "https://localhost:8080/",
          "height": 34
        }
      },
      "source": [
        "#With Background images\n",
        "\n",
        "early_path=glob.glob('/content/PlantVillage-Dataset/raw/color/Potato___Early_blight/*.JPG')\n",
        "healthy_path=glob.glob('/content/PlantVillage-Dataset/raw/color/Potato___healthy/*.JPG')\n",
        "late_path=glob.glob('/content/PlantVillage-Dataset/raw/color/Potato___Late_blight/*.JPG')\n",
        "print(len(early_path)+len(healthy_path)+len(late_path))\n",
        "\n",
        "\n"
      ],
      "execution_count": null,
      "outputs": [
        {
          "output_type": "stream",
          "text": [
            "2152\n"
          ],
          "name": "stdout"
        }
      ]
    },
    {
      "cell_type": "code",
      "metadata": {
        "id": "6EQycN6KlkG7",
        "outputId": "32fcb6c3-bfb5-444f-a772-50b686e243bb",
        "colab": {
          "base_uri": "https://localhost:8080/",
          "height": 34
        }
      },
      "source": [
        "# image color RGB\n",
        "healthy_path1=glob.glob('/content/PlantVillage-Dataset/raw/color/Tomato___healthy/*.JPG')\n",
        "late_path1=glob.glob('/content/PlantVillage-Dataset/raw/color/Tomato___Late_blight/*.JPG')\n",
        "mosaic_path=glob.glob('/content/PlantVillage-Dataset/raw/color/Tomato___Tomato_mosaic_virus/*.JPG')\n",
        "curl_path=glob.glob('/content/PlantVillage-Dataset/raw/color/Tomato___Tomato_Yellow_Leaf_Curl_Virus/*.JPG')\n",
        "print(len(healthy_path)+len(late_path)+len(mosaic_path)+len(curl_path))\n",
        "\n",
        "\n"
      ],
      "execution_count": null,
      "outputs": [
        {
          "output_type": "stream",
          "text": [
            "6882\n"
          ],
          "name": "stdout"
        }
      ]
    },
    {
      "cell_type": "code",
      "metadata": {
        "id": "egkhZk-5O5eP",
        "outputId": "81a9e436-4385-4f5b-94c4-29c74ec41ba1",
        "colab": {
          "base_uri": "https://localhost:8080/",
          "height": 34
        }
      },
      "source": [
        "# Data Preparation\n",
        "\n",
        "data = []\n",
        "target = []\n",
        "for img in healthy_path1:\n",
        "    img = cv2.imread(img)\n",
        "    data.append(img)\n",
        "    target.append('tomate')\n",
        "\n",
        "\n",
        "for img in late_path1:\n",
        "    img = cv2.imread(img)\n",
        "    data.append(img)\n",
        "    target.append('tomate')  \n",
        "\n",
        "for img in curl_path:\n",
        "    img = cv2.imread(img)\n",
        "    data.append(img)\n",
        "    target.append('tomate')  \n",
        "\n",
        "for img in mosaic_path:\n",
        "    img = cv2.imread(img)\n",
        "    data.append(img)\n",
        "    target.append('tomate')\n",
        "\n",
        "len(data)\n",
        "\n"
      ],
      "execution_count": null,
      "outputs": [
        {
          "output_type": "execute_result",
          "data": {
            "text/plain": [
              "9076"
            ]
          },
          "metadata": {
            "tags": []
          },
          "execution_count": 18
        }
      ]
    },
    {
      "cell_type": "code",
      "metadata": {
        "outputId": "abd79c45-0658-461c-dc89-93924a1cd3e2",
        "id": "5vNBL79t5jab",
        "colab": {
          "base_uri": "https://localhost:8080/",
          "height": 34
        }
      },
      "source": [
        "# Data Preparation\n",
        "\n",
        "\n",
        "for img in healthy_path:\n",
        "    img = cv2.imread(img)\n",
        "    data.append(img)\n",
        "    target.append('patate')\n",
        "\n",
        "\n",
        "\n",
        "for img in early_path:\n",
        "    img = cv2.imread(img)\n",
        "    data.append(img)\n",
        "    target.append('patate')\n",
        "\n",
        "for img in late_path:\n",
        "    img = cv2.imread(img)\n",
        "    data.append(img)\n",
        "    target.append('patate')  \n",
        "\n",
        "\n",
        "len(data)\n"
      ],
      "execution_count": null,
      "outputs": [
        {
          "output_type": "execute_result",
          "data": {
            "text/plain": [
              "11228"
            ]
          },
          "metadata": {
            "tags": []
          },
          "execution_count": 19
        }
      ]
    },
    {
      "cell_type": "code",
      "metadata": {
        "id": "KxjBr9RT76KI",
        "outputId": "668bef9e-d508-4a73-89b3-133d6bdf5c5a",
        "colab": {
          "base_uri": "https://localhost:8080/",
          "height": 34
        }
      },
      "source": [
        "np.shape(data)"
      ],
      "execution_count": null,
      "outputs": [
        {
          "output_type": "execute_result",
          "data": {
            "text/plain": [
              "(11228, 256, 256, 3)"
            ]
          },
          "metadata": {
            "tags": []
          },
          "execution_count": 15
        }
      ]
    },
    {
      "cell_type": "code",
      "metadata": {
        "id": "XvKRwZW_Vo-4"
      },
      "source": [
        "# Reshaping Data\n",
        "data=np.reshape(data,(11228,196608))"
      ],
      "execution_count": null,
      "outputs": []
    },
    {
      "cell_type": "code",
      "metadata": {
        "id": "InOUMS_1VsiT"
      },
      "source": [
        "\n",
        "\n",
        "from sklearn.model_selection import train_test_split\n",
        "xtrain, xtest, ytrain, ytest = train_test_split(data, target, train_size=0.8)\n",
        "\n",
        "\n",
        "\n"
      ],
      "execution_count": null,
      "outputs": []
    },
    {
      "cell_type": "code",
      "metadata": {
        "id": "1uVLq6H0Vuv0"
      },
      "source": [
        "# Scale !!!!Important \n",
        "scaler = StandardScaler()\n",
        "scaler.fit(xtrain)\n",
        "xtrain = scaler.transform(xtrain)\n",
        "xtest = scaler.transform(xtest)\n"
      ],
      "execution_count": null,
      "outputs": []
    },
    {
      "cell_type": "code",
      "metadata": {
        "id": "1eSGtkY5PXa4",
        "outputId": "57c7bf04-885c-4c16-fdaa-ae0ff4aa3063",
        "colab": {
          "base_uri": "https://localhost:8080/",
          "height": 50
        }
      },
      "source": [
        "print(\"images avec fonds \")\n",
        "print(\"---------------\")\n",
        "\n",
        "\n",
        "\n",
        "#Entrainement \n",
        "\n",
        "from sklearn import neighbors\n",
        "\n",
        "for k in range(1,15):\n",
        "\n",
        "  # Algorithm Training\n",
        "  knn = neighbors.KNeighborsClassifier(n_neighbors=k)\n",
        "  knn.fit(xtrain, ytrain)\n",
        "\n",
        "\n",
        "\n",
        "  # Algorithm Test\n",
        "  predicted = knn.predict(xtest)\n",
        "\n",
        "  # Calcucating Algorithm Accuracy\n",
        "  precision = knn.score(xtest, ytest)\n",
        "\n",
        "  print('Precision: ', precision*100,'% pour k= ',k)"
      ],
      "execution_count": null,
      "outputs": [
        {
          "output_type": "stream",
          "text": [
            "images avec fonds \n",
            "---------------\n"
          ],
          "name": "stdout"
        }
      ]
    },
    {
      "cell_type": "code",
      "metadata": {
        "id": "dFiJjYCt-AKC"
      },
      "source": [
        ""
      ],
      "execution_count": null,
      "outputs": []
    },
    {
      "cell_type": "code",
      "metadata": {
        "id": "nH9i21sw8vHV"
      },
      "source": [
        "import joblib\n",
        "joblib.dump(knn,'knn_type.pkl')\n"
      ],
      "execution_count": null,
      "outputs": []
    },
    {
      "cell_type": "code",
      "metadata": {
        "id": "062FaY7W90LR"
      },
      "source": [
        "from google.colab import files\n",
        "files.download('knn_type.pkl')"
      ],
      "execution_count": null,
      "outputs": []
    },
    {
      "cell_type": "code",
      "metadata": {
        "id": "jE-zwcSOPXXp"
      },
      "source": [
        ""
      ],
      "execution_count": null,
      "outputs": []
    },
    {
      "cell_type": "code",
      "metadata": {
        "outputId": "7800442a-94a2-40ab-fddf-b3b4839241e8",
        "id": "AlLQD-8CuU5i",
        "colab": {
          "base_uri": "https://localhost:8080/",
          "height": 289
        }
      },
      "source": [
        "print(\"images sans fonds \")\n",
        "print(\"---------------\")\n",
        "\n",
        "\n",
        "\n",
        "#Entrainement \n",
        "\n",
        "from sklearn import neighbors\n",
        "\n",
        "for k in range(1,15):\n",
        "\n",
        "  # Algorithm Training\n",
        "  knn = neighbors.KNeighborsClassifier(n_neighbors=k)\n",
        "  knn.fit(xtrain, ytrain)\n",
        "\n",
        "\n",
        "\n",
        "  # Algorithm Test\n",
        "  predicted = knn.predict(xtest)\n",
        "\n",
        "  # Calcucating Algorithm Accuracy\n",
        "  precision = knn.score(xtest, ytest)\n",
        "\n",
        "  print('Precision: ', precision*100,'% pour k= ',k)"
      ],
      "execution_count": null,
      "outputs": [
        {
          "output_type": "stream",
          "text": [
            "images sans fonds \n",
            "---------------\n",
            "Precision:  73.54988399071925 % pour k=  1\n",
            "Precision:  78.88631090487239 % pour k=  2\n",
            "Precision:  76.79814385150812 % pour k=  3\n",
            "Precision:  81.67053364269141 % pour k=  4\n",
            "Precision:  81.20649651972158 % pour k=  5\n",
            "Precision:  82.13457076566125 % pour k=  6\n",
            "Precision:  81.67053364269141 % pour k=  7\n",
            "Precision:  81.4385150812065 % pour k=  8\n",
            "Precision:  79.58236658932715 % pour k=  9\n",
            "Precision:  81.67053364269141 % pour k=  10\n",
            "Precision:  81.20649651972158 % pour k=  11\n",
            "Precision:  81.4385150812065 % pour k=  12\n",
            "Precision:  81.90255220417633 % pour k=  13\n",
            "Precision:  82.13457076566125 % pour k=  14\n"
          ],
          "name": "stdout"
        }
      ]
    }
  ]
}