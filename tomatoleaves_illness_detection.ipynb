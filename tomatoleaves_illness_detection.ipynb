{
  "nbformat": 4,
  "nbformat_minor": 0,
  "metadata": {
    "colab": {
      "name": "tomatoleaves_illness detection.ipynb",
      "provenance": [],
      "collapsed_sections": [],
      "machine_shape": "hm",
      "include_colab_link": true
    },
    "kernelspec": {
      "name": "python3",
      "display_name": "Python 3"
    },
    "accelerator": "GPU"
  },
  "cells": [
    {
      "cell_type": "markdown",
      "metadata": {
        "id": "view-in-github",
        "colab_type": "text"
      },
      "source": [
        "<a href=\"https://colab.research.google.com/github/HjrAmal/KNN-plants-leaves-type/blob/main/tomatoleaves_illness_detection.ipynb\" target=\"_parent\"><img src=\"https://colab.research.google.com/assets/colab-badge.svg\" alt=\"Open In Colab\"/></a>"
      ]
    },
    {
      "cell_type": "code",
      "metadata": {
        "id": "M00_NlsnLKXi"
      },
      "source": [
        "!git clone https://github.com/spMohanty/PlantVillage-Dataset.git"
      ],
      "execution_count": null,
      "outputs": []
    },
    {
      "cell_type": "code",
      "metadata": {
        "id": "ItExXFuglUVX"
      },
      "source": [
        "!cd /content/PlantVillage-Dataset/raw/segmented/Tomato___healthy && ls"
      ],
      "execution_count": null,
      "outputs": []
    },
    {
      "cell_type": "code",
      "metadata": {
        "id": "4BLgR4nMlGxg"
      },
      "source": [
        "import numpy as np\n",
        "\n",
        "import cv2\n",
        "\n",
        "from sklearn import neighbors\n",
        "\n",
        "\n",
        "\n",
        "import glob\n",
        "\n",
        "from sklearn.decomposition import PCA\n",
        "from sklearn.model_selection import train_test_split\n",
        "from sklearn.preprocessing import StandardScaler\n",
        "\n",
        "from sklearn.ensemble import RandomForestClassifier\n",
        "\n"
      ],
      "execution_count": null,
      "outputs": []
    },
    {
      "cell_type": "code",
      "metadata": {
        "id": "6EQycN6KlkG7"
      },
      "source": [
        "# image color RGB\n",
        "healthy_path=glob.glob('/content/PlantVillage-Dataset/raw/color/Tomato___healthy/*.JPG')\n",
        "late_path=glob.glob('/content/PlantVillage-Dataset/raw/color/Tomato___Late_blight/*.JPG')\n",
        "mosaic_path=glob.glob('/content/PlantVillage-Dataset/raw/color/Tomato___Tomato_mosaic_virus/*.JPG')\n",
        "curl_path=glob.glob('/content/PlantVillage-Dataset/raw/color/ Tomato___Tomato_Yellow_Leaf_Curl_Virus/*.JPG')\n",
        "print(len(healthy_path)+len(late_path)+len(mosaic_path)+len(curl_path))\n",
        "\n",
        "\n"
      ],
      "execution_count": null,
      "outputs": []
    },
    {
      "cell_type": "code",
      "metadata": {
        "id": "bMY9raqF3nj8"
      },
      "source": [
        "# image gray GrayScale\n",
        "healthy_path=glob.glob('/content/PlantVillage-Dataset/raw/grayscale/Tomato___healthy/*.JPG')\n",
        "late_path=glob.glob('/content/PlantVillage-Dataset/raw/grayscale/Tomato___Late_blight/*.JPG')\n",
        "mosaic_path=glob.glob('/content/PlantVillage-Dataset/raw/grayscale/Tomato___Tomato_mosaic_virus/*.JPG')\n",
        "curl_path=glob.glob('/content/PlantVillage-Dataset/raw/grayscale/ Tomato___Tomato_Yellow_Leaf_Curl_Virus/*.JPG')\n",
        "print(len(healthy_path)+len(late_path)+len(mosaic_path)+len(curl_path))"
      ],
      "execution_count": null,
      "outputs": []
    },
    {
      "cell_type": "code",
      "metadata": {
        "id": "S1LKPrkT9gIE",
        "outputId": "0baaa5c6-f06d-45e6-829e-24dc25f32728",
        "colab": {
          "base_uri": "https://localhost:8080/",
          "height": 34
        }
      },
      "source": [
        "# image segmented\n",
        "healthy_path=glob.glob('/content/PlantVillage-Dataset/raw/segmented/Tomato___healthy/*.jpg')\n",
        "late_path=glob.glob('/content/PlantVillage-Dataset/raw/segmented/Tomato___Late_blight/*.jpg')\n",
        "mosaic_path=glob.glob('/content/PlantVillage-Dataset/raw/segmented/Tomato___Tomato_mosaic_virus/*.jpg')\n",
        "curl_path=glob.glob('/content/PlantVillage-Dataset/raw/segmented/ Tomato___Tomato_Yellow_Leaf_Curl_Virus/*.jpg')\n",
        "print(len(healthy_path)+len(late_path)+len(mosaic_path)+len(curl_path))\n",
        "\n",
        "\n",
        "\n",
        "\n"
      ],
      "execution_count": null,
      "outputs": [
        {
          "output_type": "stream",
          "text": [
            "3873\n"
          ],
          "name": "stdout"
        }
      ]
    },
    {
      "cell_type": "code",
      "metadata": {
        "id": "egkhZk-5O5eP"
      },
      "source": [
        "# Data Preparation\n",
        "\n",
        "data = []\n",
        "target = []\n",
        "for img in healthy_path:\n",
        "    img = cv2.imread(img)\n",
        "    grayImg = cv2.cvtColor(img, cv2.COLOR_RGB2GRAY)\n",
        "    res = cv2.bitwise_and(img, img)\n",
        "    data.append(res)\n",
        "    target.append('healthy')\n",
        "\n",
        "\n",
        "\n",
        "for img in late_path:\n",
        "    img = cv2.imread(img)\n",
        "    grayImg = cv2.cvtColor(img, cv2.COLOR_RGB2GRAY)\n",
        "    res = cv2.bitwise_and(img, img)\n",
        "    data.append(res)\n",
        "    target.append('Late blight')\n",
        "\n",
        "for img in mosaic_path:\n",
        "    img = cv2.imread(img)\n",
        "    grayImg = cv2.cvtColor(img, cv2.COLOR_RGB2GRAY)\n",
        "  \n",
        "    data.append(res)\n",
        "    target.append('Tomato Mosaic Virus')  \n",
        "\n",
        "for img in curl_path:\n",
        "    img = cv2.imread(img)\n",
        "    grayImg = cv2.cvtColor(img, cv2.COLOR_RGB2GRAY)\n",
        "    data.append(res)\n",
        "    target.append('Tomato Yellow Leaf Curl Virus')  \n",
        "\n"
      ],
      "execution_count": null,
      "outputs": []
    },
    {
      "cell_type": "code",
      "metadata": {
        "id": "XvKRwZW_Vo-4"
      },
      "source": [
        "# Reshaping Data\n",
        "data=np.reshape(data,(3873,196608))"
      ],
      "execution_count": null,
      "outputs": []
    },
    {
      "cell_type": "code",
      "metadata": {
        "id": "InOUMS_1VsiT"
      },
      "source": [
        "# Data Division\n",
        "xtrain, xtest, ytrain, ytest = train_test_split(data, target, train_size=0.8,random_state=21)"
      ],
      "execution_count": null,
      "outputs": []
    },
    {
      "cell_type": "code",
      "metadata": {
        "id": "ZoMx-4lLmTOd"
      },
      "source": [
        "print(ytest)"
      ],
      "execution_count": null,
      "outputs": []
    },
    {
      "cell_type": "code",
      "metadata": {
        "id": "1uVLq6H0Vuv0"
      },
      "source": [
        "# Scale !!!!Important Accuracy 72.22% --> 77.77%\n",
        "scaler = StandardScaler()\n",
        "scaler.fit(xtrain)\n",
        "xtrain = scaler.transform(xtrain)\n",
        "xtest = scaler.transform(xtest)\n"
      ],
      "execution_count": null,
      "outputs": []
    },
    {
      "cell_type": "code",
      "metadata": {
        "id": "OJZeqCrEVxCn"
      },
      "source": [
        "# PCA !!! important Accuracy 77,77% --> 80.55%\n",
        "pca = PCA(0.95)\n",
        "pca.fit(xtrain)\n",
        "xtrain = pca.transform(xtrain)\n",
        "xtest = pca.transform(xtest)"
      ],
      "execution_count": null,
      "outputs": []
    },
    {
      "cell_type": "code",
      "metadata": {
        "id": "1lFVTvqyB9rX",
        "outputId": "4e8815b7-1814-4ab1-fad9-10dacfa33d22",
        "colab": {
          "base_uri": "https://localhost:8080/",
          "height": 34
        }
      },
      "source": [
        "print(np.shape(xtrain))"
      ],
      "execution_count": null,
      "outputs": [
        {
          "output_type": "stream",
          "text": [
            "(3098, 1167)\n"
          ],
          "name": "stdout"
        }
      ]
    },
    {
      "cell_type": "code",
      "metadata": {
        "id": "kZ7-F0rnZzU0",
        "outputId": "9e02df54-2898-43bf-b523-27d705602c9f",
        "colab": {
          "base_uri": "https://localhost:8080/",
          "height": 88
        }
      },
      "source": [
        "classifier = RandomForestClassifier(max_depth=10, random_state=0)\n",
        "classifier.fit(xtrain, ytrain)\n",
        "\n",
        "predicted = classifier.predict(xtest)\n",
        "precision = classifier.score(xtest,ytest)\n",
        "print(precision)"
      ],
      "execution_count": null,
      "outputs": [
        {
          "output_type": "stream",
          "text": [
            "/usr/local/lib/python3.6/dist-packages/sklearn/ensemble/forest.py:245: FutureWarning: The default value of n_estimators will change from 10 in version 0.20 to 100 in 0.22.\n",
            "  \"10 in version 0.20 to 100 in 0.22.\", FutureWarning)\n"
          ],
          "name": "stderr"
        },
        {
          "output_type": "stream",
          "text": [
            "0.84\n"
          ],
          "name": "stdout"
        }
      ]
    },
    {
      "cell_type": "code",
      "metadata": {
        "id": "Oc8watSfdtnR",
        "outputId": "3bf2f610-1d1f-4185-f19a-a96b01969501",
        "colab": {
          "base_uri": "https://localhost:8080/",
          "height": 785
        }
      },
      "source": [
        "!pip install tpot"
      ],
      "execution_count": null,
      "outputs": [
        {
          "output_type": "stream",
          "text": [
            "Collecting tpot\n",
            "\u001b[?25l  Downloading https://files.pythonhosted.org/packages/a5/29/f38a5751276cd901bca8f04ca9a98569a9d4eacd3236bc19a0bf0c834f74/TPOT-0.11.0.tar.gz (896kB)\n",
            "\u001b[K     |████████████████████████████████| 901kB 2.8MB/s \n",
            "\u001b[?25hRequirement already satisfied: numpy>=1.16.3 in /usr/local/lib/python3.6/dist-packages (from tpot) (1.17.4)\n",
            "Requirement already satisfied: scipy>=1.3.1 in /usr/local/lib/python3.6/dist-packages (from tpot) (1.3.3)\n",
            "Requirement already satisfied: scikit-learn>=0.21.0 in /usr/local/lib/python3.6/dist-packages (from tpot) (0.21.3)\n",
            "Collecting deap>=1.2\n",
            "\u001b[?25l  Downloading https://files.pythonhosted.org/packages/81/98/3166fb5cfa47bf516e73575a1515734fe3ce05292160db403ae542626b32/deap-1.3.0-cp36-cp36m-manylinux2010_x86_64.whl (151kB)\n",
            "\u001b[K     |████████████████████████████████| 153kB 65.3MB/s \n",
            "\u001b[?25hCollecting update_checker>=0.16\n",
            "  Downloading https://files.pythonhosted.org/packages/17/c9/ab11855af164d03be0ff4fddd4c46a5bd44799a9ecc1770e01a669c21168/update_checker-0.16-py2.py3-none-any.whl\n",
            "Collecting tqdm>=4.36.1\n",
            "\u001b[?25l  Downloading https://files.pythonhosted.org/packages/8c/c3/d049cf3fb31094ee045ec1ee29fffac218c91e82c8838c49ab4c3e52627b/tqdm-4.41.0-py2.py3-none-any.whl (56kB)\n",
            "\u001b[K     |████████████████████████████████| 61kB 10.2MB/s \n",
            "\u001b[?25hCollecting stopit>=1.1.1\n",
            "  Downloading https://files.pythonhosted.org/packages/35/58/e8bb0b0fb05baf07bbac1450c447d753da65f9701f551dca79823ce15d50/stopit-1.1.2.tar.gz\n",
            "Requirement already satisfied: pandas>=0.24.2 in /usr/local/lib/python3.6/dist-packages (from tpot) (0.25.3)\n",
            "Requirement already satisfied: joblib>=0.13.2 in /usr/local/lib/python3.6/dist-packages (from tpot) (0.14.1)\n",
            "Requirement already satisfied: requests>=2.3.0 in /usr/local/lib/python3.6/dist-packages (from update_checker>=0.16->tpot) (2.21.0)\n",
            "Requirement already satisfied: pytz>=2017.2 in /usr/local/lib/python3.6/dist-packages (from pandas>=0.24.2->tpot) (2018.9)\n",
            "Requirement already satisfied: python-dateutil>=2.6.1 in /usr/local/lib/python3.6/dist-packages (from pandas>=0.24.2->tpot) (2.6.1)\n",
            "Requirement already satisfied: urllib3<1.25,>=1.21.1 in /usr/local/lib/python3.6/dist-packages (from requests>=2.3.0->update_checker>=0.16->tpot) (1.24.3)\n",
            "Requirement already satisfied: chardet<3.1.0,>=3.0.2 in /usr/local/lib/python3.6/dist-packages (from requests>=2.3.0->update_checker>=0.16->tpot) (3.0.4)\n",
            "Requirement already satisfied: certifi>=2017.4.17 in /usr/local/lib/python3.6/dist-packages (from requests>=2.3.0->update_checker>=0.16->tpot) (2019.11.28)\n",
            "Requirement already satisfied: idna<2.9,>=2.5 in /usr/local/lib/python3.6/dist-packages (from requests>=2.3.0->update_checker>=0.16->tpot) (2.8)\n",
            "Requirement already satisfied: six>=1.5 in /usr/local/lib/python3.6/dist-packages (from python-dateutil>=2.6.1->pandas>=0.24.2->tpot) (1.12.0)\n",
            "Building wheels for collected packages: tpot, stopit\n",
            "  Building wheel for tpot (setup.py) ... \u001b[?25l\u001b[?25hdone\n",
            "  Created wheel for tpot: filename=TPOT-0.11.0-cp36-none-any.whl size=75684 sha256=a7573938d9c9296387243d05d4800854e7abf3f69f7b3168d4c028af0d97d4c6\n",
            "  Stored in directory: /root/.cache/pip/wheels/5e/79/3b/49ccea9a29f28d0cdecbca22d71515c23bf45e1e65bc925cb8\n",
            "  Building wheel for stopit (setup.py) ... \u001b[?25l\u001b[?25hdone\n",
            "  Created wheel for stopit: filename=stopit-1.1.2-cp36-none-any.whl size=11955 sha256=44f0d8f86048953b225866ed050cf88ed900d30c9002180ff5e9da8f97a797b7\n",
            "  Stored in directory: /root/.cache/pip/wheels/3c/85/2b/2580190404636bfc63e8de3dff629c03bb795021e1983a6cc7\n",
            "Successfully built tpot stopit\n",
            "Installing collected packages: deap, update-checker, tqdm, stopit, tpot\n",
            "  Found existing installation: tqdm 4.28.1\n",
            "    Uninstalling tqdm-4.28.1:\n",
            "      Successfully uninstalled tqdm-4.28.1\n",
            "Successfully installed deap-1.3.0 stopit-1.1.2 tpot-0.11.0 tqdm-4.41.0 update-checker-0.16\n"
          ],
          "name": "stdout"
        },
        {
          "output_type": "display_data",
          "data": {
            "application/vnd.colab-display-data+json": {
              "pip_warning": {
                "packages": [
                  "tqdm"
                ]
              }
            }
          },
          "metadata": {
            "tags": []
          }
        }
      ]
    },
    {
      "cell_type": "code",
      "metadata": {
        "id": "2_akiHebdQAc"
      },
      "source": [
        "from tpot import TPOTClassifier\n",
        "\n",
        "tpot = TPOTClassifier(generations=5)\n",
        "tpot.fit(xtrain, ytrain)\n",
        "prec=tpot.score(xtest, ytest)\n",
        "print(prec)"
      ],
      "execution_count": null,
      "outputs": []
    },
    {
      "cell_type": "code",
      "metadata": {
        "id": "2eSww1zumNf0",
        "outputId": "d583ab40-4a3b-4699-bf2f-13b3a1fb8c28",
        "colab": {
          "base_uri": "https://localhost:8080/",
          "height": 255
        }
      },
      "source": [
        "for k in range(1,15) :\n",
        "  # Algorithm Training\n",
        "  knn = neighbors.KNeighborsClassifier(n_neighbors=k,algorithm='auto',p=2)\n",
        "  knn.fit(xtrain, ytrain)\n",
        "\n",
        "\n",
        "\n",
        "  # Algorithm Test\n",
        "  predicted = knn.predict(xtest)\n",
        "\n",
        "  # Calcucating Algorithm Accuracy\n",
        "  precision = knn.score(xtest, ytest)\n",
        "\n",
        "  print('Precision: ', precision*100,'% pour k= ',k)"
      ],
      "execution_count": null,
      "outputs": [
        {
          "output_type": "stream",
          "text": [
            "Precision:  82.3225806451613 % pour k=  1\n",
            "Precision:  84.38709677419355 % pour k=  2\n",
            "Precision:  80.7741935483871 % pour k=  3\n",
            "Precision:  81.41935483870968 % pour k=  4\n",
            "Precision:  81.03225806451613 % pour k=  5\n",
            "Precision:  83.09677419354838 % pour k=  6\n",
            "Precision:  81.41935483870968 % pour k=  7\n",
            "Precision:  82.83870967741936 % pour k=  8\n",
            "Precision:  81.29032258064515 % pour k=  9\n",
            "Precision:  81.93548387096774 % pour k=  10\n",
            "Precision:  81.16129032258065 % pour k=  11\n",
            "Precision:  81.03225806451613 % pour k=  12\n",
            "Precision:  80.90322580645162 % pour k=  13\n",
            "Precision:  81.16129032258065 % pour k=  14\n"
          ],
          "name": "stdout"
        }
      ]
    },
    {
      "cell_type": "code",
      "metadata": {
        "id": "SDdjlOYyAe91"
      },
      "source": [
        ""
      ],
      "execution_count": null,
      "outputs": []
    },
    {
      "cell_type": "code",
      "metadata": {
        "id": "nUPW8sFNApMZ"
      },
      "source": [
        ""
      ],
      "execution_count": null,
      "outputs": []
    },
    {
      "cell_type": "code",
      "metadata": {
        "id": "EMJTm92jA1rt"
      },
      "source": [
        ""
      ],
      "execution_count": null,
      "outputs": []
    },
    {
      "cell_type": "code",
      "metadata": {
        "id": "kc2tCn7GCd5U"
      },
      "source": [
        ""
      ],
      "execution_count": null,
      "outputs": []
    },
    {
      "cell_type": "code",
      "metadata": {
        "id": "XY6HEmcuBN4J"
      },
      "source": [
        ""
      ],
      "execution_count": null,
      "outputs": []
    },
    {
      "cell_type": "code",
      "metadata": {
        "id": "_60ST_8M_h1E"
      },
      "source": [
        ""
      ],
      "execution_count": null,
      "outputs": []
    }
  ]
}